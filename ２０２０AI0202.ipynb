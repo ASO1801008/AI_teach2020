{
  "nbformat": 4,
  "nbformat_minor": 0,
  "metadata": {
    "colab": {
      "name": "２０２０AI0202.ipynb",
      "provenance": [],
      "collapsed_sections": [],
      "include_colab_link": true
    },
    "kernelspec": {
      "name": "python3",
      "display_name": "Python 3"
    }
  },
  "cells": [
    {
      "cell_type": "markdown",
      "metadata": {
        "id": "view-in-github",
        "colab_type": "text"
      },
      "source": [
        "<a href=\"https://colab.research.google.com/github/ASO1801008/AI_teach2020/blob/master/%EF%BC%92%EF%BC%90%EF%BC%92%EF%BC%90AI0202.ipynb\" target=\"_parent\"><img src=\"https://colab.research.google.com/assets/colab-badge.svg\" alt=\"Open In Colab\"/></a>"
      ]
    },
    {
      "cell_type": "code",
      "metadata": {
        "id": "7gaYh1U6Mdhi"
      },
      "source": [
        ""
      ],
      "execution_count": 12,
      "outputs": []
    },
    {
      "cell_type": "markdown",
      "metadata": {
        "id": "SPbG0JppNRfu"
      },
      "source": [
        "### URL オブジェクトを使ってファイルをリンクから保存"
      ]
    },
    {
      "cell_type": "code",
      "metadata": {
        "id": "uxQvxeMlNdSB"
      },
      "source": [
        "# urlライブラリのrequestクラスをreqという別名でimport\n",
        "import urllib.request as req\n",
        "# pandas ライブラリをpdという別名でimport\n",
        "import pandas as pd"
      ],
      "execution_count": 13,
      "outputs": []
    },
    {
      "cell_type": "code",
      "metadata": {
        "id": "aAAPB39YOTiG",
        "outputId": "d381edc6-bd90-4117-d034-ad44bd1545fc",
        "colab": {
          "base_uri": "https://localhost:8080/",
          "height": 34
        }
      },
      "source": [
        "# urlという名前のオブジェクト変数を定義\n",
        "url = \"https://raw.githubusercontent.com/pandas-dev/pandas/master/pandas/tests/io/data/csv/iris.csv\"\n",
        "# リンクから保存するためのファイル名を定義\n",
        "savefile = \"iris.csv\"\n",
        "#requestクラスを使ってurlからデータをsavefileへコピー\n",
        "req.urlretrieve(url, savefile)\n",
        "print(\"保存しました\")"
      ],
      "execution_count": 14,
      "outputs": [
        {
          "output_type": "stream",
          "text": [
            "保存しました\n"
          ],
          "name": "stdout"
        }
      ]
    },
    {
      "cell_type": "markdown",
      "metadata": {
        "id": "3YLyRdZaP_8u"
      },
      "source": [
        "### 保存したCSVファイルをメモリ上に読み込んで画面に表示する"
      ]
    },
    {
      "cell_type": "code",
      "metadata": {
        "id": "rrf-xP7PP7Td",
        "outputId": "b8311f3c-ce0f-4ac9-afe6-e7b544e34004",
        "colab": {
          "base_uri": "https://localhost:8080/",
          "height": 419
        }
      },
      "source": [
        "# pandas のread_csvメソッドを使ってCSVファイルを読みこむ\n",
        "csv = pd.read_csv(savefile, encoding=\"utf-8\")\n",
        "csv"
      ],
      "execution_count": 15,
      "outputs": [
        {
          "output_type": "execute_result",
          "data": {
            "text/html": [
              "<div>\n",
              "<style scoped>\n",
              "    .dataframe tbody tr th:only-of-type {\n",
              "        vertical-align: middle;\n",
              "    }\n",
              "\n",
              "    .dataframe tbody tr th {\n",
              "        vertical-align: top;\n",
              "    }\n",
              "\n",
              "    .dataframe thead th {\n",
              "        text-align: right;\n",
              "    }\n",
              "</style>\n",
              "<table border=\"1\" class=\"dataframe\">\n",
              "  <thead>\n",
              "    <tr style=\"text-align: right;\">\n",
              "      <th></th>\n",
              "      <th>SepalLength</th>\n",
              "      <th>SepalWidth</th>\n",
              "      <th>PetalLength</th>\n",
              "      <th>PetalWidth</th>\n",
              "      <th>Name</th>\n",
              "    </tr>\n",
              "  </thead>\n",
              "  <tbody>\n",
              "    <tr>\n",
              "      <th>0</th>\n",
              "      <td>5.1</td>\n",
              "      <td>3.5</td>\n",
              "      <td>1.4</td>\n",
              "      <td>0.2</td>\n",
              "      <td>Iris-setosa</td>\n",
              "    </tr>\n",
              "    <tr>\n",
              "      <th>1</th>\n",
              "      <td>4.9</td>\n",
              "      <td>3.0</td>\n",
              "      <td>1.4</td>\n",
              "      <td>0.2</td>\n",
              "      <td>Iris-setosa</td>\n",
              "    </tr>\n",
              "    <tr>\n",
              "      <th>2</th>\n",
              "      <td>4.7</td>\n",
              "      <td>3.2</td>\n",
              "      <td>1.3</td>\n",
              "      <td>0.2</td>\n",
              "      <td>Iris-setosa</td>\n",
              "    </tr>\n",
              "    <tr>\n",
              "      <th>3</th>\n",
              "      <td>4.6</td>\n",
              "      <td>3.1</td>\n",
              "      <td>1.5</td>\n",
              "      <td>0.2</td>\n",
              "      <td>Iris-setosa</td>\n",
              "    </tr>\n",
              "    <tr>\n",
              "      <th>4</th>\n",
              "      <td>5.0</td>\n",
              "      <td>3.6</td>\n",
              "      <td>1.4</td>\n",
              "      <td>0.2</td>\n",
              "      <td>Iris-setosa</td>\n",
              "    </tr>\n",
              "    <tr>\n",
              "      <th>...</th>\n",
              "      <td>...</td>\n",
              "      <td>...</td>\n",
              "      <td>...</td>\n",
              "      <td>...</td>\n",
              "      <td>...</td>\n",
              "    </tr>\n",
              "    <tr>\n",
              "      <th>145</th>\n",
              "      <td>6.7</td>\n",
              "      <td>3.0</td>\n",
              "      <td>5.2</td>\n",
              "      <td>2.3</td>\n",
              "      <td>Iris-virginica</td>\n",
              "    </tr>\n",
              "    <tr>\n",
              "      <th>146</th>\n",
              "      <td>6.3</td>\n",
              "      <td>2.5</td>\n",
              "      <td>5.0</td>\n",
              "      <td>1.9</td>\n",
              "      <td>Iris-virginica</td>\n",
              "    </tr>\n",
              "    <tr>\n",
              "      <th>147</th>\n",
              "      <td>6.5</td>\n",
              "      <td>3.0</td>\n",
              "      <td>5.2</td>\n",
              "      <td>2.0</td>\n",
              "      <td>Iris-virginica</td>\n",
              "    </tr>\n",
              "    <tr>\n",
              "      <th>148</th>\n",
              "      <td>6.2</td>\n",
              "      <td>3.4</td>\n",
              "      <td>5.4</td>\n",
              "      <td>2.3</td>\n",
              "      <td>Iris-virginica</td>\n",
              "    </tr>\n",
              "    <tr>\n",
              "      <th>149</th>\n",
              "      <td>5.9</td>\n",
              "      <td>3.0</td>\n",
              "      <td>5.1</td>\n",
              "      <td>1.8</td>\n",
              "      <td>Iris-virginica</td>\n",
              "    </tr>\n",
              "  </tbody>\n",
              "</table>\n",
              "<p>150 rows × 5 columns</p>\n",
              "</div>"
            ],
            "text/plain": [
              "     SepalLength  SepalWidth  PetalLength  PetalWidth            Name\n",
              "0            5.1         3.5          1.4         0.2     Iris-setosa\n",
              "1            4.9         3.0          1.4         0.2     Iris-setosa\n",
              "2            4.7         3.2          1.3         0.2     Iris-setosa\n",
              "3            4.6         3.1          1.5         0.2     Iris-setosa\n",
              "4            5.0         3.6          1.4         0.2     Iris-setosa\n",
              "..           ...         ...          ...         ...             ...\n",
              "145          6.7         3.0          5.2         2.3  Iris-virginica\n",
              "146          6.3         2.5          5.0         1.9  Iris-virginica\n",
              "147          6.5         3.0          5.2         2.0  Iris-virginica\n",
              "148          6.2         3.4          5.4         2.3  Iris-virginica\n",
              "149          5.9         3.0          5.1         1.8  Iris-virginica\n",
              "\n",
              "[150 rows x 5 columns]"
            ]
          },
          "metadata": {
            "tags": []
          },
          "execution_count": 15
        }
      ]
    },
    {
      "cell_type": "markdown",
      "metadata": {
        "id": "GAJMVCHzWJdH"
      },
      "source": [
        "### 機械学習のライブラリを読みこむ"
      ]
    },
    {
      "cell_type": "code",
      "metadata": {
        "id": "2Gkk5xptQdBk"
      },
      "source": [
        "from sklearn.model_selection import train_test_split\n",
        "### サポートベクターマシンのSVCのアルゴリズムのクラス\n",
        "from sklearn.svm import SVC\n",
        "# テストの評価用クラス\n",
        "from sklearn.metrics import accuracy_score"
      ],
      "execution_count": 16,
      "outputs": []
    },
    {
      "cell_type": "markdown",
      "metadata": {
        "id": "_eg9QFdjwIBq"
      },
      "source": [
        "### あやめデータを読み込む\n"
      ]
    },
    {
      "cell_type": "code",
      "metadata": {
        "id": "kxOzsocbv613"
      },
      "source": [
        "iris_data = pd.read_csv(\"iris.csv\", encoding=\"utf-8\")"
      ],
      "execution_count": 17,
      "outputs": []
    },
    {
      "cell_type": "markdown",
      "metadata": {
        "id": "qe5msMOPXWOu"
      },
      "source": [
        "### アヤメのCSVデータを正解（ラベル）と入力用データに分離する列を分ける"
      ]
    },
    {
      "cell_type": "code",
      "metadata": {
        "id": "WUMeLqwfXVBE",
        "outputId": "29f4d1e0-3a9f-49f9-ff31-26ee9b21face",
        "colab": {
          "base_uri": "https://localhost:8080/",
          "height": 221
        }
      },
      "source": [
        "# pythonのリストを切り出しを使って表を横に分割する\n",
        "# yに右一列だけを切り取って代入\n",
        "y = iris_data.loc[:, \"Name\"]\n",
        "print(y)"
      ],
      "execution_count": 18,
      "outputs": [
        {
          "output_type": "stream",
          "text": [
            "0         Iris-setosa\n",
            "1         Iris-setosa\n",
            "2         Iris-setosa\n",
            "3         Iris-setosa\n",
            "4         Iris-setosa\n",
            "            ...      \n",
            "145    Iris-virginica\n",
            "146    Iris-virginica\n",
            "147    Iris-virginica\n",
            "148    Iris-virginica\n",
            "149    Iris-virginica\n",
            "Name: Name, Length: 150, dtype: object\n"
          ],
          "name": "stdout"
        }
      ]
    },
    {
      "cell_type": "code",
      "metadata": {
        "id": "XHW4kq6pZDuv",
        "outputId": "3e99e5f5-9f4a-4a71-fff4-f13510e24c1a",
        "colab": {
          "base_uri": "https://localhost:8080/",
          "height": 255
        }
      },
      "source": [
        "# x に左４列のデータを切り取って代入\n",
        "x = iris_data.loc[:,[ \"SepalLength\" , \"SepalWidth\" , \"PetalLength\" , \"PetalWidth\" ]]\n",
        "print(x)"
      ],
      "execution_count": 19,
      "outputs": [
        {
          "output_type": "stream",
          "text": [
            "     SepalLength  SepalWidth  PetalLength  PetalWidth\n",
            "0            5.1         3.5          1.4         0.2\n",
            "1            4.9         3.0          1.4         0.2\n",
            "2            4.7         3.2          1.3         0.2\n",
            "3            4.6         3.1          1.5         0.2\n",
            "4            5.0         3.6          1.4         0.2\n",
            "..           ...         ...          ...         ...\n",
            "145          6.7         3.0          5.2         2.3\n",
            "146          6.3         2.5          5.0         1.9\n",
            "147          6.5         3.0          5.2         2.0\n",
            "148          6.2         3.4          5.4         2.3\n",
            "149          5.9         3.0          5.1         1.8\n",
            "\n",
            "[150 rows x 4 columns]\n"
          ],
          "name": "stdout"
        }
      ]
    },
    {
      "cell_type": "markdown",
      "metadata": {
        "id": "UvRcTY9FZ6CS"
      },
      "source": [
        "### xデータも、yデータも、学習用に使うデータと、テスト検証用に使うデータに分けておく"
      ]
    },
    {
      "cell_type": "code",
      "metadata": {
        "id": "QAyI-Ih1Zo35"
      },
      "source": [
        "# train_test_split を使って、xもyも　trainデータとtestデータにランダムに分ける　（\bshuffle）\n",
        "# 比率はtest=0.2,train=0.8でx_train,y_train,x_test,y_testという変数に代入する\n",
        "x_train,x_test, y_train,y_test = train_test_split(x, y, test_size=0.2, train_size=0.8, shuffle=True)"
      ],
      "execution_count": 20,
      "outputs": []
    },
    {
      "cell_type": "markdown",
      "metadata": {
        "id": "cJI5vNFPuhjJ"
      },
      "source": [
        "### Xtrain(学習用データ)、Ytrain(学習用正解データ)を使ってモデルを学習させる"
      ]
    },
    {
      "cell_type": "code",
      "metadata": {
        "id": "O-Y8WNMzu_Ka"
      },
      "source": [
        "# SVCアルゴリズムの学習モデルのインスタンスを生成\n",
        "clf = SVC()"
      ],
      "execution_count": 21,
      "outputs": []
    },
    {
      "cell_type": "code",
      "metadata": {
        "id": "tZrM4eFCvPYG",
        "outputId": "000f6521-6db7-4d87-8cf7-f5fd4242c264",
        "colab": {
          "base_uri": "https://localhost:8080/",
          "height": 85
        }
      },
      "source": [
        "# SVCアルゴリズムの学習モデルに学習用の入力データと正解データを引き渡して学習させる\n",
        "clf.fit(x_train,y_train)"
      ],
      "execution_count": 22,
      "outputs": [
        {
          "output_type": "execute_result",
          "data": {
            "text/plain": [
              "SVC(C=1.0, break_ties=False, cache_size=200, class_weight=None, coef0=0.0,\n",
              "    decision_function_shape='ovr', degree=3, gamma='scale', kernel='rbf',\n",
              "    max_iter=-1, probability=False, random_state=None, shrinking=True,\n",
              "    tol=0.001, verbose=False)"
            ]
          },
          "metadata": {
            "tags": []
          },
          "execution_count": 22
        }
      ]
    },
    {
      "cell_type": "markdown",
      "metadata": {
        "id": "Ydhr7DGswMih"
      },
      "source": [
        "### 学習がうまくいったかを検証して評価する\n",
        "# x_testデータを使って推論させた結果（y_pred）と本来の正解データ（y_test）を比較してどれくらいの割合正解しているかを評価する"
      ]
    },
    {
      "cell_type": "code",
      "metadata": {
        "id": "9_UEzm7xwR3E",
        "outputId": "1ca289bb-6e5c-47c1-d34e-c784f3fe7fe1",
        "colab": {
          "base_uri": "https://localhost:8080/",
          "height": 34
        }
      },
      "source": [
        "# x_testデータを使って学習モデルclfに推論させる(結果は変数predに代入)\n",
        "y_pred = clf.predict(x_test)\n",
        "print(\" 正解率 = \" , accuracy_score(y_test, y_pred))"
      ],
      "execution_count": 23,
      "outputs": [
        {
          "output_type": "stream",
          "text": [
            " 正解率 =  0.9333333333333333\n"
          ],
          "name": "stdout"
        }
      ]
    }
  ]
}