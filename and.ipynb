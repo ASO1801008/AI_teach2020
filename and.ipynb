{
  "nbformat": 4,
  "nbformat_minor": 0,
  "metadata": {
    "colab": {
      "name": "and.ipynb",
      "provenance": [],
      "authorship_tag": "ABX9TyNBvvGnncho4awshaRAUV+U",
      "include_colab_link": true
    },
    "kernelspec": {
      "name": "python3",
      "display_name": "Python 3"
    }
  },
  "cells": [
    {
      "cell_type": "markdown",
      "metadata": {
        "id": "view-in-github",
        "colab_type": "text"
      },
      "source": [
        "<a href=\"https://colab.research.google.com/github/ASO1801008/AI_teach2020/blob/master/and.ipynb\" target=\"_parent\"><img src=\"https://colab.research.google.com/assets/colab-badge.svg\" alt=\"Open In Colab\"/></a>"
      ]
    },
    {
      "cell_type": "markdown",
      "metadata": {
        "id": "OdkRLkdnqovA"
      },
      "source": [
        "### AND演算をモデルに学ばせる"
      ]
    },
    {
      "cell_type": "code",
      "metadata": {
        "id": "TBfhpNnAqxku"
      },
      "source": [
        "# scikit-learnを使うため、インポートする\n",
        "from sklearn.svm import LinearSVC # 線形SVCのオブジェクト\n",
        "from sklearn.metrics import accuracy_score # 結果を評価するためのオブジェクト"
      ],
      "execution_count": 20,
      "outputs": []
    },
    {
      "cell_type": "markdown",
      "metadata": {
        "id": "hCr3Aus6rkZ5"
      },
      "source": [
        "### 学習のためのデータを用意する"
      ]
    },
    {
      "cell_type": "code",
      "metadata": {
        "id": "pPkUth-6rgCJ"
      },
      "source": [
        "# 入力値を表すデータ\n",
        "# 入力X, 入力Y\n",
        "learn_data = [ [0,0],[0,1],[1,0],[1,1] ]\n",
        "# (XとYのand)結果\n",
        "learn_label = [ 0 , 0 , 0 , 1 ]\n"
      ],
      "execution_count": 21,
      "outputs": []
    },
    {
      "cell_type": "markdown",
      "metadata": {
        "id": "PvGL4afps_ah"
      },
      "source": [
        "### アルゴリズムのインスタンスを生成"
      ]
    },
    {
      "cell_type": "code",
      "metadata": {
        "id": "vtyAGu1os8U9"
      },
      "source": [
        "### 線形SVCのインスタンスを生成\n",
        "clf = LinearSVC()"
      ],
      "execution_count": 22,
      "outputs": []
    },
    {
      "cell_type": "markdown",
      "metadata": {
        "id": "rl3Y5SvQtXIJ"
      },
      "source": [
        "###　モデルに学習させる(fitメソッド)"
      ]
    },
    {
      "cell_type": "code",
      "metadata": {
        "id": "qG0Pog46tMq_",
        "outputId": "2cca10dc-1e4f-4edf-8062-fdb8c3013722",
        "colab": {
          "base_uri": "https://localhost:8080/",
          "height": 85
        }
      },
      "source": [
        "clf.fit( learn_data, learn_label )"
      ],
      "execution_count": 23,
      "outputs": [
        {
          "output_type": "execute_result",
          "data": {
            "text/plain": [
              "LinearSVC(C=1.0, class_weight=None, dual=True, fit_intercept=True,\n",
              "          intercept_scaling=1, loss='squared_hinge', max_iter=1000,\n",
              "          multi_class='ovr', penalty='l2', random_state=None, tol=0.0001,\n",
              "          verbose=0)"
            ]
          },
          "metadata": {
            "tags": []
          },
          "execution_count": 23
        }
      ]
    },
    {
      "cell_type": "markdown",
      "metadata": {
        "id": "l0kIn76_vFgi"
      },
      "source": [
        "### モデルがちゃんと学習できたか、テストデータで、予測させてみる"
      ]
    },
    {
      "cell_type": "code",
      "metadata": {
        "id": "WAtPjZUGt9P4",
        "outputId": "0a61cdab-13bb-42ac-b754-9e6c40a2800a",
        "colab": {
          "base_uri": "https://localhost:8080/",
          "height": 68
        }
      },
      "source": [
        "# 予測用のテストデータ（検証データ）を作る\n",
        "test_data = [ [0,0],[0,1],[1,0],[1,1] ]\n",
        "# モデルにテストデータを解答させる(予測)予測のメソッドはpredict\n",
        "test_label = clf.predict( test_data )\n",
        "print( test_label )\n",
        "# 予測結果の評価\n",
        "print(test_data, \"の予測結果\", test_label)\n",
        "# 結果の制度を表示させる\n",
        "print(\"正解率　＝　\", accuracy_score([0,0,0,1], test_label))"
      ],
      "execution_count": 24,
      "outputs": [
        {
          "output_type": "stream",
          "text": [
            "[0 0 0 1]\n",
            "[[0, 0], [0, 1], [1, 0], [1, 1]] の予測結果 [0 0 0 1]\n",
            "正解率　＝　 1.0\n"
          ],
          "name": "stdout"
        }
      ]
    },
    {
      "cell_type": "markdown",
      "metadata": {
        "id": "gL5uH2tWw0bI"
      },
      "source": [
        "### XOR演算を実装する"
      ]
    },
    {
      "cell_type": "code",
      "metadata": {
        "id": "fSx4oRCcw6k2"
      },
      "source": [
        "# XOR演算を学習するためのデータを用意する\n",
        "# X,Yの順\n",
        "learn_data = [ [0,0],[1,0],[0,1],[1,1] ]\n",
        "# X xor Y の結果正解データ(学習ラベル)\n",
        "learn_label = [ 0 , 1 , 1 , 0 ]"
      ],
      "execution_count": 25,
      "outputs": []
    },
    {
      "cell_type": "code",
      "metadata": {
        "id": "G9y4ufr3xhYX",
        "outputId": "2c0a4377-3e38-42fa-ce67-5dd9ba437afc",
        "colab": {
          "base_uri": "https://localhost:8080/",
          "height": 85
        }
      },
      "source": [
        "# 学習モデルのインスタンスを作る\n",
        "clf = LinearSVC()\n",
        "# 学習させる\n",
        "clf.fit(learn_data, learn_label)"
      ],
      "execution_count": 26,
      "outputs": [
        {
          "output_type": "execute_result",
          "data": {
            "text/plain": [
              "LinearSVC(C=1.0, class_weight=None, dual=True, fit_intercept=True,\n",
              "          intercept_scaling=1, loss='squared_hinge', max_iter=1000,\n",
              "          multi_class='ovr', penalty='l2', random_state=None, tol=0.0001,\n",
              "          verbose=0)"
            ]
          },
          "metadata": {
            "tags": []
          },
          "execution_count": 26
        }
      ]
    },
    {
      "cell_type": "code",
      "metadata": {
        "id": "0ZJRKhqPxxOo"
      },
      "source": [
        "# 学習モデルに推論させる\n",
        "test_data = [ [0,0], [1,0], [0,1], [1,1] ]\n",
        "test_label = clf.predict(test_data)"
      ],
      "execution_count": 27,
      "outputs": []
    },
    {
      "cell_type": "code",
      "metadata": {
        "id": "lnQuyuqRyOuY",
        "outputId": "61500d65-c93a-4c44-f37d-5e11c5dd5658",
        "colab": {
          "base_uri": "https://localhost:8080/",
          "height": 51
        }
      },
      "source": [
        "# 結果を検証する\n",
        "print(test_data, \"の予測結果\", test_label)\n",
        "print(\"正解率 = \" , accuracy_score([ 0 , 1 , 1 , 0 ], test_label))"
      ],
      "execution_count": 28,
      "outputs": [
        {
          "output_type": "stream",
          "text": [
            "[[0, 0], [1, 0], [0, 1], [1, 1]] の予測結果 [0 1 1 1]\n",
            "正解率 =  0.75\n"
          ],
          "name": "stdout"
        }
      ]
    },
    {
      "cell_type": "markdown",
      "metadata": {
        "id": "yFz1b7mbZtP2"
      },
      "source": [
        "### K近傍法でXOR演算を実装する"
      ]
    },
    {
      "cell_type": "code",
      "metadata": {
        "id": "GoHWHvURyxl4"
      },
      "source": [
        "# K近傍法のアルゴリズムのクラスをimport\n",
        "from sklearn.neighbors import KNeighborsClassifier"
      ],
      "execution_count": 29,
      "outputs": []
    },
    {
      "cell_type": "code",
      "metadata": {
        "id": "X1IsccSMZ-2V"
      },
      "source": [
        "# 学習モデルの変数clfをK近傍法アルゴリズムのインスタンスで上書き\n",
        "clf = KNeighborsClassifier(n_neighbors=1)"
      ],
      "execution_count": 30,
      "outputs": []
    },
    {
      "cell_type": "code",
      "metadata": {
        "id": "yt7obo-9anmv",
        "outputId": "04baf62e-c583-4064-fd1c-87146bdbde97",
        "colab": {
          "base_uri": "https://localhost:8080/",
          "height": 68
        }
      },
      "source": [
        "# 学習用入力データ(learn_data)と結果用正解データ(learn_label)を使って\n",
        "clf.fit(learn_data,learn_label)"
      ],
      "execution_count": 31,
      "outputs": [
        {
          "output_type": "execute_result",
          "data": {
            "text/plain": [
              "KNeighborsClassifier(algorithm='auto', leaf_size=30, metric='minkowski',\n",
              "                     metric_params=None, n_jobs=None, n_neighbors=1, p=2,\n",
              "                     weights='uniform')"
            ]
          },
          "metadata": {
            "tags": []
          },
          "execution_count": 31
        }
      ]
    },
    {
      "cell_type": "markdown",
      "metadata": {
        "id": "0qavukplbYOj"
      },
      "source": [
        "### テスト要検証データで推論をする"
      ]
    },
    {
      "cell_type": "code",
      "metadata": {
        "id": "EJAV5QScbWWg",
        "outputId": "8444b316-69ea-4e04-a90b-3e8e87c6772a",
        "colab": {
          "base_uri": "https://localhost:8080/",
          "height": 51
        }
      },
      "source": [
        "# テスト用検証データ（test_data）と答え合わせ用の正解データ([0,1,1,0])\n",
        "test_label = clf.predict(test_data)\n",
        "\n",
        "# 推論結果の評価\n",
        "print(test_data, \"の予測(推論)結果\" , test_label)\n",
        "print(\"正解率 = \", accuracy_score( [0,1,1,0], test_label))"
      ],
      "execution_count": 32,
      "outputs": [
        {
          "output_type": "stream",
          "text": [
            "[[0, 0], [1, 0], [0, 1], [1, 1]] の予測(推論)結果 [0 1 1 0]\n",
            "正解率 =  1.0\n"
          ],
          "name": "stdout"
        }
      ]
    },
    {
      "cell_type": "code",
      "metadata": {
        "id": "T_OBZILFcEaJ"
      },
      "source": [
        ""
      ],
      "execution_count": 32,
      "outputs": []
    }
  ]
}