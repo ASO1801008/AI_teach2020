{
  "nbformat": 4,
  "nbformat_minor": 0,
  "metadata": {
    "colab": {
      "name": "20201009AI0205-selectAlgo.ipynb",
      "provenance": [],
      "collapsed_sections": [],
      "authorship_tag": "ABX9TyOI5aputuIabr0/7zmRSwnH",
      "include_colab_link": true
    },
    "kernelspec": {
      "name": "python3",
      "display_name": "Python 3"
    }
  },
  "cells": [
    {
      "cell_type": "markdown",
      "metadata": {
        "id": "view-in-github",
        "colab_type": "text"
      },
      "source": [
        "<a href=\"https://colab.research.google.com/github/ASO1801008/AI_teach2020/blob/master/20201009AI0205_selectAlgo.ipynb\" target=\"_parent\"><img src=\"https://colab.research.google.com/assets/colab-badge.svg\" alt=\"Open In Colab\"/></a>"
      ]
    },
    {
      "cell_type": "markdown",
      "metadata": {
        "id": "cxCIKB-p4t7b"
      },
      "source": [
        "### sklearnでエラーが出るので、前のバージョンを入れなおす"
      ]
    },
    {
      "cell_type": "code",
      "metadata": {
        "id": "UJvkWvih40vN"
      },
      "source": [
        "# ## 現在のscikit-leran えおcolabのVMからアンインストール\n",
        "# !pip uninstall scikit-learn\n",
        "# ## 前のバージョンを指定してVMにインストール\n",
        "# !pip install scikit-learn==0.20 --ignore-installed"
      ],
      "execution_count": 1,
      "outputs": []
    },
    {
      "cell_type": "markdown",
      "metadata": {
        "id": "lhonyOxzzw2a"
      },
      "source": [
        "### all_estimators()でループして各種のアルゴリズムで学習させ、比較する"
      ]
    },
    {
      "cell_type": "code",
      "metadata": {
        "id": "ErMQT-vyzxWU"
      },
      "source": [
        "# ライブラリの読み込み\n",
        "import pandas as pd\n",
        "# 学習データとテスト検証用データを分割するライブラリ\n",
        "from sklearn.model_selection import train_test_split\n",
        "# 正解率を算出するライブラリ\n",
        "from sklearn.metrics import accuracy_score\n",
        "# all_estimators(推定期のすべてを利用できるようにする)\n",
        "from sklearn.utils.testing import all_estimators\n",
        "# 警告クラス\n",
        "import warnings"
      ],
      "execution_count": 2,
      "outputs": []
    },
    {
      "cell_type": "markdown",
      "metadata": {
        "id": "Z7BN5Nr0zSSo"
      },
      "source": [
        "### WEBからアヤメのデータを読み込む"
      ]
    },
    {
      "cell_type": "code",
      "metadata": {
        "id": "xLsslJQZjSF-",
        "outputId": "6faba570-4b7a-45ae-9167-ff21b64f9d39",
        "colab": {
          "base_uri": "https://localhost:8080/",
          "height": 204
        }
      },
      "source": [
        "# urlリンクから読み込むライブラリ\n",
        "import urllib.request as req\n",
        "# url用の文字列変数を定義\n",
        "url = \"https://raw.githubusercontent.com/pandas-dev/pandas/master/pandas/tests/io/data/csv/iris.csv\"\n",
        "# リンクから保存するためのファイルを定義\n",
        "savefile = \"iris.csv\"\n",
        "# requestクラスを使ってurlからでーたをsavefileへコピーして保存\n",
        "req.urlretrieve(url, savefile)\n",
        "# pandasのread_csvメソッドを使ってCSVファイルを読み込む\n",
        "iris_data = pd.read_csv(savefile, encoding=\"utf-8\")\n",
        "iris_data.head()"
      ],
      "execution_count": 3,
      "outputs": [
        {
          "output_type": "execute_result",
          "data": {
            "text/html": [
              "<div>\n",
              "<style scoped>\n",
              "    .dataframe tbody tr th:only-of-type {\n",
              "        vertical-align: middle;\n",
              "    }\n",
              "\n",
              "    .dataframe tbody tr th {\n",
              "        vertical-align: top;\n",
              "    }\n",
              "\n",
              "    .dataframe thead th {\n",
              "        text-align: right;\n",
              "    }\n",
              "</style>\n",
              "<table border=\"1\" class=\"dataframe\">\n",
              "  <thead>\n",
              "    <tr style=\"text-align: right;\">\n",
              "      <th></th>\n",
              "      <th>SepalLength</th>\n",
              "      <th>SepalWidth</th>\n",
              "      <th>PetalLength</th>\n",
              "      <th>PetalWidth</th>\n",
              "      <th>Name</th>\n",
              "    </tr>\n",
              "  </thead>\n",
              "  <tbody>\n",
              "    <tr>\n",
              "      <th>0</th>\n",
              "      <td>5.1</td>\n",
              "      <td>3.5</td>\n",
              "      <td>1.4</td>\n",
              "      <td>0.2</td>\n",
              "      <td>Iris-setosa</td>\n",
              "    </tr>\n",
              "    <tr>\n",
              "      <th>1</th>\n",
              "      <td>4.9</td>\n",
              "      <td>3.0</td>\n",
              "      <td>1.4</td>\n",
              "      <td>0.2</td>\n",
              "      <td>Iris-setosa</td>\n",
              "    </tr>\n",
              "    <tr>\n",
              "      <th>2</th>\n",
              "      <td>4.7</td>\n",
              "      <td>3.2</td>\n",
              "      <td>1.3</td>\n",
              "      <td>0.2</td>\n",
              "      <td>Iris-setosa</td>\n",
              "    </tr>\n",
              "    <tr>\n",
              "      <th>3</th>\n",
              "      <td>4.6</td>\n",
              "      <td>3.1</td>\n",
              "      <td>1.5</td>\n",
              "      <td>0.2</td>\n",
              "      <td>Iris-setosa</td>\n",
              "    </tr>\n",
              "    <tr>\n",
              "      <th>4</th>\n",
              "      <td>5.0</td>\n",
              "      <td>3.6</td>\n",
              "      <td>1.4</td>\n",
              "      <td>0.2</td>\n",
              "      <td>Iris-setosa</td>\n",
              "    </tr>\n",
              "  </tbody>\n",
              "</table>\n",
              "</div>"
            ],
            "text/plain": [
              "   SepalLength  SepalWidth  PetalLength  PetalWidth         Name\n",
              "0          5.1         3.5          1.4         0.2  Iris-setosa\n",
              "1          4.9         3.0          1.4         0.2  Iris-setosa\n",
              "2          4.7         3.2          1.3         0.2  Iris-setosa\n",
              "3          4.6         3.1          1.5         0.2  Iris-setosa\n",
              "4          5.0         3.6          1.4         0.2  Iris-setosa"
            ]
          },
          "metadata": {
            "tags": []
          },
          "execution_count": 3
        }
      ]
    },
    {
      "cell_type": "markdown",
      "metadata": {
        "id": "junilOPx1haw"
      },
      "source": [
        "### アヤメデータを目的変数：ｙと説明変数：ｘに分類する"
      ]
    },
    {
      "cell_type": "code",
      "metadata": {
        "id": "eUledDqW1VRe",
        "outputId": "cd7676d9-c1bf-4306-c4dc-451d976ca2f3",
        "colab": {
          "base_uri": "https://localhost:8080/"
        }
      },
      "source": [
        "y = iris_data.loc[:, \"Name\"] # 目的変数\n",
        "x = iris_data.loc[:, [\"SepalLength\", \"SepalWidth\", \"PetalLength\", \"PetalWidth\"]] # 説明変数\n",
        "\n",
        "print( y.head() )\n",
        "print( x.head() )"
      ],
      "execution_count": 4,
      "outputs": [
        {
          "output_type": "stream",
          "text": [
            "0    Iris-setosa\n",
            "1    Iris-setosa\n",
            "2    Iris-setosa\n",
            "3    Iris-setosa\n",
            "4    Iris-setosa\n",
            "Name: Name, dtype: object\n",
            "   SepalLength  SepalWidth  PetalLength  PetalWidth\n",
            "0          5.1         3.5          1.4         0.2\n",
            "1          4.9         3.0          1.4         0.2\n",
            "2          4.7         3.2          1.3         0.2\n",
            "3          4.6         3.1          1.5         0.2\n",
            "4          5.0         3.6          1.4         0.2\n"
          ],
          "name": "stdout"
        }
      ]
    },
    {
      "cell_type": "code",
      "metadata": {
        "id": "KJgzrD042CoY",
        "outputId": "a2f1c21a-93f2-4b59-bc45-77a4aa0b4616",
        "colab": {
          "base_uri": "https://localhost:8080/"
        }
      },
      "source": [
        "# 学習用データ（train)とテスト検証用データ（test）に分離\n",
        "x_train, x_test, y_train, y_test = train_test_split(x, y, test_size=0.2, train_size=0.8, shuffle=True)\n",
        "print(x_train.head())\n",
        "print(x_train.head())\n",
        "print(x_test.head())"
      ],
      "execution_count": 5,
      "outputs": [
        {
          "output_type": "stream",
          "text": [
            "     SepalLength  SepalWidth  PetalLength  PetalWidth\n",
            "84           5.4         3.0          4.5         1.5\n",
            "34           4.9         3.1          1.5         0.1\n",
            "127          6.1         3.0          4.9         1.8\n",
            "108          6.7         2.5          5.8         1.8\n",
            "104          6.5         3.0          5.8         2.2\n",
            "     SepalLength  SepalWidth  PetalLength  PetalWidth\n",
            "84           5.4         3.0          4.5         1.5\n",
            "34           4.9         3.1          1.5         0.1\n",
            "127          6.1         3.0          4.9         1.8\n",
            "108          6.7         2.5          5.8         1.8\n",
            "104          6.5         3.0          5.8         2.2\n",
            "     SepalLength  SepalWidth  PetalLength  PetalWidth\n",
            "30           4.8         3.1          1.6         0.2\n",
            "132          6.4         2.8          5.6         2.2\n",
            "47           4.6         3.2          1.4         0.2\n",
            "24           4.8         3.4          1.9         0.2\n",
            "113          5.7         2.5          5.0         2.0\n"
          ],
          "name": "stdout"
        }
      ]
    },
    {
      "cell_type": "markdown",
      "metadata": {
        "id": "y7VjiOne2yKE"
      },
      "source": [
        "### allAlgorithmsにcclassifierを指定して「分類」でフィルターしたアルゴリズムの推定期群を取得する"
      ]
    },
    {
      "cell_type": "code",
      "metadata": {
        "id": "HdSc2QiU2mmH"
      },
      "source": [
        "# 水滴のリストをフィルター指定して取得\n",
        "allAlgorithms = all_estimators(type_filter=\"classifier\")\n",
        "# ワーニングを無視する\n",
        "warnings.filterwarnings('ignore')"
      ],
      "execution_count": 6,
      "outputs": []
    },
    {
      "cell_type": "markdown",
      "metadata": {
        "id": "ZcDHxeTD4fX1"
      },
      "source": [
        "### 推定期のリストをループしながら学習＆推論させる"
      ]
    },
    {
      "cell_type": "code",
      "metadata": {
        "id": "CWVYA5-73C3h",
        "outputId": "1fbee7a9-8990-4b08-c931-d4bd4bd9020c",
        "colab": {
          "base_uri": "https://localhost:8080/"
        }
      },
      "source": [
        "for(name,algorithm) in allAlgorithms:\n",
        "  #各アルゴリズムのオブジェクトを生成\n",
        "  clf = algorithm() # 各アルゴリズムクラスのコンストラクトを実行\n",
        "  #　学習させる\n",
        "  clf.fit(x_train,y_train)\n",
        "  # 推論する\n",
        "  y_pred = clf.predict(x_test)\n",
        "  # accuracy_scoreで正解率を算出して表示\n",
        "  print(name,\"正解率 = \",accuracy_score(y_test,y_pred) )\n"
      ],
      "execution_count": 7,
      "outputs": [
        {
          "output_type": "stream",
          "text": [
            "AdaBoostClassifier 正解率 =  0.9666666666666667\n",
            "BaggingClassifier 正解率 =  0.9666666666666667\n",
            "BernoulliNB 正解率 =  0.3333333333333333\n",
            "CalibratedClassifierCV 正解率 =  1.0\n",
            "ComplementNB 正解率 =  0.6666666666666666\n",
            "DecisionTreeClassifier 正解率 =  0.9666666666666667\n",
            "ExtraTreeClassifier 正解率 =  0.9666666666666667\n",
            "ExtraTreesClassifier 正解率 =  0.9666666666666667\n",
            "GaussianNB 正解率 =  0.9666666666666667\n",
            "GaussianProcessClassifier 正解率 =  0.9666666666666667\n",
            "GradientBoostingClassifier 正解率 =  0.9666666666666667\n",
            "KNeighborsClassifier 正解率 =  0.9666666666666667\n",
            "LabelPropagation 正解率 =  0.9666666666666667\n",
            "LabelSpreading 正解率 =  0.9666666666666667\n",
            "LinearDiscriminantAnalysis 正解率 =  1.0\n",
            "LinearSVC 正解率 =  1.0\n",
            "LogisticRegression 正解率 =  1.0\n",
            "LogisticRegressionCV 正解率 =  0.9666666666666667\n",
            "MLPClassifier 正解率 =  0.9666666666666667\n",
            "MultinomialNB 正解率 =  0.9666666666666667\n",
            "NearestCentroid 正解率 =  0.8666666666666667\n",
            "NuSVC 正解率 =  0.9666666666666667\n",
            "PassiveAggressiveClassifier 正解率 =  0.7\n",
            "Perceptron 正解率 =  0.6666666666666666\n",
            "QuadraticDiscriminantAnalysis 正解率 =  0.9666666666666667\n",
            "RadiusNeighborsClassifier 正解率 =  0.9666666666666667\n",
            "RandomForestClassifier 正解率 =  0.9666666666666667\n",
            "RidgeClassifier 正解率 =  0.9\n",
            "RidgeClassifierCV 正解率 =  0.9\n",
            "SGDClassifier 正解率 =  0.6666666666666666\n",
            "SVC 正解率 =  0.9666666666666667\n"
          ],
          "name": "stdout"
        }
      ]
    },
    {
      "cell_type": "markdown",
      "metadata": {
        "id": "KwRjPzMFmExN"
      },
      "source": [
        "### クロスバリデーション"
      ]
    },
    {
      "cell_type": "markdown",
      "metadata": {
        "id": "zgmv4IEpmJBC"
      },
      "source": [
        "クロスバリデーション関連のライブラリのインポート"
      ]
    },
    {
      "cell_type": "code",
      "metadata": {
        "id": "3IAuIQBH4HhZ"
      },
      "source": [
        "# ライブラリのインポート\n",
        "# 分割クロスバリデーション\n",
        "from sklearn.model_selection import KFold\n",
        "# クロスバリデーションスコアを取得す流ためのコード\n",
        "from sklearn.model_selection import cross_val_score"
      ],
      "execution_count": 8,
      "outputs": []
    },
    {
      "cell_type": "markdown",
      "metadata": {
        "id": "gF211PZxmxTm"
      },
      "source": [
        "クロスバリデーションを実行する"
      ]
    },
    {
      "cell_type": "code",
      "metadata": {
        "id": "gtb2z4QtmrKs",
        "outputId": "6be194dd-84f0-4a16-8f1b-21b1e0ffd9c8",
        "colab": {
          "base_uri": "https://localhost:8080/"
        }
      },
      "source": [
        "# K分割考査検証\n",
        "kfold_cv = KFold(n_splits=5, shuffle=True)\n",
        "# すでに生成してあるall_estimatorsのインスタンスをループさせて、クロスバリデーションを行う\n",
        "for( name, algorithms ) in allAlgorithms:\n",
        "  try:\n",
        "    # 各アルゴリズムのインスタンスを取得\n",
        "    clf = algorithm()\n",
        "    # scoreの属性がある学習モデルだけに絞る\n",
        "    if hasattr( clf, \"score\" ):\n",
        "      # クロスバリデーションをしてスコアを取得する\n",
        "      scores = cross_val_score(clf,x,y, cv=kfold_cv)\n",
        "      #　k=n_splits=5 回文のクロスバリデーションのスコアを表示\n",
        "      print( name, \"の正解率\" )\n",
        "      print( scores )\n",
        "    # ifブロックの終了\n",
        "  # tryブロックの終了\n",
        "  except: # 例外処理ブロック\n",
        "    # 何もしない\n",
        "    pass"
      ],
      "execution_count": 9,
      "outputs": [
        {
          "output_type": "stream",
          "text": [
            "AdaBoostClassifier の正解率\n",
            "[0.96666667 1.         0.96666667 0.96666667 1.        ]\n",
            "BaggingClassifier の正解率\n",
            "[0.9        0.96666667 0.96666667 1.         0.96666667]\n",
            "BernoulliNB の正解率\n",
            "[1.         1.         0.96666667 0.96666667 0.96666667]\n",
            "CalibratedClassifierCV の正解率\n",
            "[0.96666667 0.93333333 0.96666667 1.         1.        ]\n",
            "ComplementNB の正解率\n",
            "[1.         0.96666667 0.93333333 0.96666667 1.        ]\n",
            "DecisionTreeClassifier の正解率\n",
            "[0.96666667 0.96666667 0.96666667 0.96666667 1.        ]\n",
            "ExtraTreeClassifier の正解率\n",
            "[1.         0.93333333 0.93333333 0.96666667 0.96666667]\n",
            "ExtraTreesClassifier の正解率\n",
            "[0.93333333 1.         1.         0.96666667 0.96666667]\n",
            "GaussianNB の正解率\n",
            "[0.96666667 1.         1.         0.93333333 0.93333333]\n",
            "GaussianProcessClassifier の正解率\n",
            "[1.         1.         0.9        1.         0.96666667]\n",
            "GradientBoostingClassifier の正解率\n",
            "[1.         0.96666667 0.93333333 1.         0.96666667]\n",
            "KNeighborsClassifier の正解率\n",
            "[0.93333333 1.         0.96666667 1.         1.        ]\n",
            "LabelPropagation の正解率\n",
            "[1.         0.96666667 0.9        1.         0.96666667]\n",
            "LabelSpreading の正解率\n",
            "[1.         1.         1.         0.93333333 0.96666667]\n",
            "LinearDiscriminantAnalysis の正解率\n",
            "[0.93333333 0.96666667 1.         0.96666667 0.9       ]\n",
            "LinearSVC の正解率\n",
            "[0.96666667 0.96666667 0.96666667 0.96666667 1.        ]\n",
            "LogisticRegression の正解率\n",
            "[0.93333333 0.96666667 0.93333333 1.         1.        ]\n",
            "LogisticRegressionCV の正解率\n",
            "[1.         1.         1.         0.96666667 0.93333333]\n",
            "MLPClassifier の正解率\n",
            "[0.96666667 0.96666667 1.         0.96666667 1.        ]\n",
            "MultinomialNB の正解率\n",
            "[1.         0.96666667 0.96666667 0.93333333 0.96666667]\n",
            "NearestCentroid の正解率\n",
            "[0.96666667 0.96666667 1.         0.96666667 0.96666667]\n",
            "NuSVC の正解率\n",
            "[1.         1.         0.96666667 0.96666667 0.93333333]\n",
            "PassiveAggressiveClassifier の正解率\n",
            "[1.         0.93333333 1.         0.96666667 1.        ]\n",
            "Perceptron の正解率\n",
            "[0.96666667 1.         0.93333333 1.         1.        ]\n",
            "QuadraticDiscriminantAnalysis の正解率\n",
            "[1.         0.96666667 0.96666667 0.96666667 1.        ]\n",
            "RadiusNeighborsClassifier の正解率\n",
            "[1.         1.         0.96666667 0.96666667 0.93333333]\n",
            "RandomForestClassifier の正解率\n",
            "[1.         0.96666667 0.93333333 1.         1.        ]\n",
            "RidgeClassifier の正解率\n",
            "[0.93333333 0.96666667 0.93333333 1.         1.        ]\n",
            "RidgeClassifierCV の正解率\n",
            "[1.         0.93333333 0.96666667 0.96666667 0.96666667]\n",
            "SGDClassifier の正解率\n",
            "[0.93333333 0.93333333 1.         1.         1.        ]\n",
            "SVC の正解率\n",
            "[0.96666667 0.96666667 1.         0.93333333 0.96666667]\n"
          ],
          "name": "stdout"
        }
      ]
    },
    {
      "cell_type": "markdown",
      "metadata": {
        "id": "_zY_yQbjrlOR"
      },
      "source": [
        "### おまけ:cross_val_scoreもっと詳しい結果を取得できる新しいクロスバリデーションオブジェクト:cross_validate"
      ]
    },
    {
      "cell_type": "code",
      "metadata": {
        "id": "nCYXmsdpozvA"
      },
      "source": [
        "# ライブラリのインポート\n",
        "from sklearn.model_selection import cross_validate"
      ],
      "execution_count": 10,
      "outputs": []
    },
    {
      "cell_type": "markdown",
      "metadata": {
        "id": "HTqSap83sFyI"
      },
      "source": [
        "### 　cross_validateを使ったクロスバリデーション"
      ]
    },
    {
      "cell_type": "code",
      "metadata": {
        "id": "bb0SlS1XsAjX",
        "outputId": "c2cbd92c-8969-4d7c-ddb5-e6e4a55cb615",
        "colab": {
          "base_uri": "https://localhost:8080/"
        }
      },
      "source": [
        "# K分割考査検証\n",
        "kfold_cv = KFold(n_splits=5, shuffle=True)\n",
        "# すでに生成してあるall_estimatorsのインスタンスをループさせて、クロスバリデーションを行う\n",
        "for( name, algorithms ) in allAlgorithms:\n",
        "  try:\n",
        "    # 各アルゴリズムのインスタンスを取得\n",
        "    clf = algorithm()\n",
        "    # scoreの属性がある学習モデルだけに絞る\n",
        "    if hasattr( clf, \"score\" ):\n",
        "      # クロスバリデーションをしてスコアを取得する\n",
        "      scores = cross_validate(clf,x,y, cv=kfold_cv)\n",
        "      #　k=n_splits=5 回文のクロスバリデーションのスコアを表示\n",
        "      print( name, \"の正解率\" )\n",
        "      print( scores )\n",
        "    # ifブロックの終了\n",
        "  # tryブロックの終了\n",
        "  except: # 例外処理ブロック\n",
        "    # 何もしない\n",
        "    pass"
      ],
      "execution_count": 11,
      "outputs": [
        {
          "output_type": "stream",
          "text": [
            "AdaBoostClassifier の正解率\n",
            "{'fit_time': array([0.00338554, 0.00299525, 0.00318456, 0.00173497, 0.00165248]), 'score_time': array([0.00142694, 0.00171208, 0.00080132, 0.00079441, 0.00070095]), 'test_score': array([0.96666667, 1.        , 0.93333333, 0.96666667, 1.        ]), 'train_score': array([0.99166667, 0.975     , 0.99166667, 0.98333333, 0.975     ])}\n",
            "BaggingClassifier の正解率\n",
            "{'fit_time': array([0.00240684, 0.00155234, 0.00164819, 0.00152135, 0.0015142 ]), 'score_time': array([0.00096059, 0.00092292, 0.00070024, 0.00071549, 0.00070095]), 'test_score': array([0.96666667, 0.96666667, 0.93333333, 1.        , 0.96666667]), 'train_score': array([0.99166667, 0.98333333, 0.99166667, 0.975     , 0.99166667])}\n",
            "BernoulliNB の正解率\n",
            "{'fit_time': array([0.00218463, 0.00219774, 0.00153732, 0.00154018, 0.0015924 ]), 'score_time': array([0.00073791, 0.00077057, 0.00073266, 0.0006988 , 0.00074053]), 'test_score': array([0.93333333, 1.        , 1.        , 1.        , 0.93333333]), 'train_score': array([0.98333333, 0.98333333, 0.99166667, 0.975     , 0.99166667])}\n",
            "CalibratedClassifierCV の正解率\n",
            "{'fit_time': array([0.00207424, 0.00216389, 0.00158858, 0.00155306, 0.00151348]), 'score_time': array([0.00108242, 0.00074148, 0.00070333, 0.00069284, 0.00070405]), 'test_score': array([0.96666667, 0.96666667, 1.        , 0.96666667, 1.        ]), 'train_score': array([1.        , 0.99166667, 0.98333333, 0.98333333, 0.975     ])}\n",
            "ComplementNB の正解率\n",
            "{'fit_time': array([0.00252128, 0.00162101, 0.00178385, 0.00229502, 0.00160146]), 'score_time': array([0.0008471 , 0.00093436, 0.00093389, 0.00108504, 0.00075102]), 'test_score': array([1.        , 0.96666667, 0.96666667, 1.        , 0.96666667]), 'train_score': array([0.99166667, 0.99166667, 0.98333333, 0.99166667, 0.98333333])}\n",
            "DecisionTreeClassifier の正解率\n",
            "{'fit_time': array([0.00236177, 0.00157046, 0.00537753, 0.00267267, 0.00167155]), 'score_time': array([0.00078893, 0.00075173, 0.00485969, 0.00173378, 0.00077176]), 'test_score': array([1.        , 0.96666667, 0.96666667, 0.93333333, 0.9       ]), 'train_score': array([0.98333333, 0.99166667, 0.98333333, 0.99166667, 1.        ])}\n",
            "ExtraTreeClassifier の正解率\n",
            "{'fit_time': array([0.00232983, 0.00276589, 0.00216079, 0.00259662, 0.00186825]), 'score_time': array([0.00075746, 0.00120497, 0.00082731, 0.00127816, 0.00077844]), 'test_score': array([0.96666667, 1.        , 1.        , 0.96666667, 0.96666667]), 'train_score': array([0.99166667, 0.975     , 0.98333333, 0.98333333, 0.99166667])}\n",
            "ExtraTreesClassifier の正解率\n",
            "{'fit_time': array([0.0025363 , 0.00180292, 0.00169826, 0.00184274, 0.00186062]), 'score_time': array([0.00081873, 0.00082016, 0.00079489, 0.0007863 , 0.00082207]), 'test_score': array([0.96666667, 1.        , 0.93333333, 1.        , 1.        ]), 'train_score': array([0.99166667, 0.98333333, 1.        , 0.975     , 0.98333333])}\n",
            "GaussianNB の正解率\n",
            "{'fit_time': array([0.00229168, 0.00204492, 0.00185204, 0.00195813, 0.00191522]), 'score_time': array([0.0008657 , 0.00084996, 0.00079226, 0.0008359 , 0.00085497]), 'test_score': array([0.93333333, 1.        , 0.96666667, 0.96666667, 0.96666667]), 'train_score': array([0.98333333, 0.975     , 0.98333333, 1.        , 0.98333333])}\n",
            "GaussianProcessClassifier の正解率\n",
            "{'fit_time': array([0.0024693 , 0.00188255, 0.00155544, 0.00171924, 0.00236535]), 'score_time': array([0.00090313, 0.00082946, 0.00071311, 0.00070858, 0.00111365]), 'test_score': array([0.96666667, 0.96666667, 1.        , 0.96666667, 0.96666667]), 'train_score': array([0.98333333, 0.99166667, 0.98333333, 0.98333333, 0.98333333])}\n",
            "GradientBoostingClassifier の正解率\n",
            "{'fit_time': array([0.00246501, 0.00224948, 0.00166917, 0.00155997, 0.00161505]), 'score_time': array([0.00076866, 0.00160193, 0.00073051, 0.00073886, 0.00071168]), 'test_score': array([1.        , 1.        , 0.93333333, 0.96666667, 1.        ]), 'train_score': array([0.98333333, 0.98333333, 1.        , 0.99166667, 0.99166667])}\n",
            "KNeighborsClassifier の正解率\n",
            "{'fit_time': array([0.00223947, 0.00154924, 0.00156212, 0.00157404, 0.00155997]), 'score_time': array([0.00110459, 0.00071454, 0.00071096, 0.00072765, 0.00070953]), 'test_score': array([1.        , 1.        , 1.        , 0.96666667, 0.93333333]), 'train_score': array([0.98333333, 0.975     , 0.975     , 0.98333333, 0.99166667])}\n",
            "LabelPropagation の正解率\n",
            "{'fit_time': array([0.00233412, 0.00164628, 0.00156474, 0.00164771, 0.00157952]), 'score_time': array([0.00075078, 0.0006845 , 0.00072002, 0.00094771, 0.0007422 ]), 'test_score': array([1.        , 0.96666667, 0.96666667, 0.96666667, 0.96666667]), 'train_score': array([0.975     , 0.98333333, 0.98333333, 0.99166667, 0.98333333])}\n",
            "LabelSpreading の正解率\n",
            "{'fit_time': array([0.00235963, 0.00154448, 0.00154448, 0.00153208, 0.00159168]), 'score_time': array([0.00074267, 0.00071025, 0.00072074, 0.00070167, 0.00071263]), 'test_score': array([1.        , 0.9       , 1.        , 0.96666667, 1.        ]), 'train_score': array([0.98333333, 1.        , 0.98333333, 0.98333333, 0.975     ])}\n",
            "LinearDiscriminantAnalysis の正解率\n",
            "{'fit_time': array([0.00234318, 0.00156355, 0.00149608, 0.00154996, 0.0015552 ]), 'score_time': array([0.00073719, 0.00072098, 0.00071907, 0.0006783 , 0.00073552]), 'test_score': array([1.        , 1.        , 0.96666667, 0.96666667, 0.96666667]), 'train_score': array([0.98333333, 0.98333333, 0.99166667, 0.975     , 0.99166667])}\n",
            "LinearSVC の正解率\n",
            "{'fit_time': array([0.00246382, 0.00299239, 0.00203514, 0.00163627, 0.00161266]), 'score_time': array([0.0009582 , 0.00125694, 0.00076604, 0.0007081 , 0.00072408]), 'test_score': array([0.96666667, 1.        , 0.93333333, 1.        , 0.96666667]), 'train_score': array([0.98333333, 0.99166667, 0.98333333, 0.98333333, 0.99166667])}\n",
            "LogisticRegression の正解率\n",
            "{'fit_time': array([0.00392795, 0.00189877, 0.00259304, 0.00160503, 0.00157166]), 'score_time': array([0.00105453, 0.0007534 , 0.00089574, 0.00083876, 0.00069475]), 'test_score': array([1.        , 0.96666667, 1.        , 0.96666667, 0.9       ]), 'train_score': array([0.98333333, 0.98333333, 0.99166667, 0.98333333, 1.        ])}\n",
            "LogisticRegressionCV の正解率\n",
            "{'fit_time': array([0.00258064, 0.00155401, 0.00196934, 0.00238967, 0.00158501]), 'score_time': array([0.00072622, 0.0007503 , 0.00101924, 0.0007627 , 0.000705  ]), 'test_score': array([1.        , 1.        , 0.96666667, 0.96666667, 0.96666667]), 'train_score': array([0.975     , 0.99166667, 0.98333333, 0.99166667, 0.99166667])}\n",
            "MLPClassifier の正解率\n",
            "{'fit_time': array([0.00231051, 0.00156045, 0.00155067, 0.0019424 , 0.00167561]), 'score_time': array([0.00074816, 0.00072026, 0.00069189, 0.00074768, 0.00072694]), 'test_score': array([1.        , 0.93333333, 0.96666667, 1.        , 0.96666667]), 'train_score': array([0.99166667, 0.99166667, 0.99166667, 0.99166667, 0.98333333])}\n",
            "MultinomialNB の正解率\n",
            "{'fit_time': array([0.0022378 , 0.00159645, 0.00193977, 0.00299048, 0.00245786]), 'score_time': array([0.001127  , 0.00070786, 0.00093746, 0.00119328, 0.00076818]), 'test_score': array([0.9       , 0.96666667, 1.        , 1.        , 0.96666667]), 'train_score': array([0.975     , 1.        , 0.98333333, 0.98333333, 0.99166667])}\n",
            "NearestCentroid の正解率\n",
            "{'fit_time': array([0.00219846, 0.00170469, 0.00163627, 0.00155115, 0.00152254]), 'score_time': array([0.00071049, 0.0007863 , 0.00072312, 0.00070739, 0.00071192]), 'test_score': array([1.        , 0.93333333, 1.        , 1.        , 1.        ]), 'train_score': array([0.975     , 1.        , 0.98333333, 0.975     , 0.98333333])}\n",
            "NuSVC の正解率\n",
            "{'fit_time': array([0.00232172, 0.00149751, 0.00159121, 0.00157666, 0.00156713]), 'score_time': array([0.00076056, 0.00070381, 0.00069332, 0.00073004, 0.00069809]), 'test_score': array([1.        , 0.96666667, 0.96666667, 0.96666667, 0.96666667]), 'train_score': array([0.975     , 0.99166667, 0.975     , 0.99166667, 0.98333333])}\n",
            "PassiveAggressiveClassifier の正解率\n",
            "{'fit_time': array([0.00243592, 0.00164533, 0.00158954, 0.00153041, 0.001544  ]), 'score_time': array([0.00134134, 0.00076675, 0.00070953, 0.00072122, 0.0006783 ]), 'test_score': array([0.96666667, 1.        , 1.        , 0.93333333, 0.9       ]), 'train_score': array([0.98333333, 0.99166667, 0.98333333, 1.        , 0.99166667])}\n",
            "Perceptron の正解率\n",
            "{'fit_time': array([0.0022769 , 0.00155425, 0.00156307, 0.0016129 , 0.00156021]), 'score_time': array([0.00073934, 0.00067925, 0.00070453, 0.00071621, 0.00067902]), 'test_score': array([0.96666667, 0.93333333, 1.        , 0.96666667, 1.        ]), 'train_score': array([1.        , 0.98333333, 0.98333333, 0.99166667, 0.98333333])}\n",
            "QuadraticDiscriminantAnalysis の正解率\n",
            "{'fit_time': array([0.00228715, 0.00155258, 0.00270391, 0.00258279, 0.00163698]), 'score_time': array([0.00075364, 0.00070834, 0.00156522, 0.00118923, 0.00069809]), 'test_score': array([1.        , 0.96666667, 0.96666667, 0.93333333, 1.        ]), 'train_score': array([0.98333333, 0.975     , 0.98333333, 1.        , 0.975     ])}\n",
            "RadiusNeighborsClassifier の正解率\n",
            "{'fit_time': array([0.00232148, 0.00158095, 0.00152016, 0.0031867 , 0.00212741]), 'score_time': array([0.00073695, 0.00067759, 0.00127482, 0.00159883, 0.00069737]), 'test_score': array([0.96666667, 1.        , 0.96666667, 0.96666667, 1.        ]), 'train_score': array([0.98333333, 0.975     , 0.98333333, 1.        , 0.99166667])}\n",
            "RandomForestClassifier の正解率\n",
            "{'fit_time': array([0.00234914, 0.00165105, 0.00153184, 0.00150919, 0.0016551 ]), 'score_time': array([0.00110602, 0.00077224, 0.00070524, 0.00097895, 0.00072408]), 'test_score': array([1.        , 1.        , 0.93333333, 0.96666667, 1.        ]), 'train_score': array([0.98333333, 0.975     , 0.99166667, 0.99166667, 0.98333333])}\n",
            "RidgeClassifier の正解率\n",
            "{'fit_time': array([0.0022521 , 0.00158787, 0.00165939, 0.00163507, 0.00160503]), 'score_time': array([0.0007751 , 0.00071096, 0.00075555, 0.00070953, 0.00082564]), 'test_score': array([1.        , 1.        , 0.96666667, 0.93333333, 0.96666667]), 'train_score': array([0.99166667, 0.975     , 0.98333333, 0.98333333, 0.98333333])}\n",
            "RidgeClassifierCV の正解率\n",
            "{'fit_time': array([0.00234628, 0.0015924 , 0.00156808, 0.0015502 , 0.00157809]), 'score_time': array([0.00074482, 0.00072265, 0.00070119, 0.0007267 , 0.00067616]), 'test_score': array([0.96666667, 1.        , 0.96666667, 1.        , 0.93333333]), 'train_score': array([0.98333333, 0.98333333, 0.98333333, 0.98333333, 0.99166667])}\n",
            "SGDClassifier の正解率\n",
            "{'fit_time': array([0.00247169, 0.00248265, 0.00164366, 0.00210047, 0.00306177]), 'score_time': array([0.00102067, 0.0010941 , 0.00072551, 0.00110936, 0.00109053]), 'test_score': array([0.93333333, 1.        , 0.96666667, 0.96666667, 1.        ]), 'train_score': array([0.99166667, 0.96666667, 0.98333333, 0.98333333, 0.98333333])}\n",
            "SVC の正解率\n",
            "{'fit_time': array([0.00218415, 0.00159645, 0.00158286, 0.001616  , 0.00156999]), 'score_time': array([0.00076175, 0.00070834, 0.00071621, 0.00072193, 0.00072956]), 'test_score': array([0.96666667, 0.96666667, 0.96666667, 1.        , 0.96666667]), 'train_score': array([0.975     , 0.98333333, 0.99166667, 0.99166667, 0.99166667])}\n"
          ],
          "name": "stdout"
        }
      ]
    },
    {
      "cell_type": "markdown",
      "metadata": {
        "id": "B1MTpCuC7hxT"
      },
      "source": [
        "### グリッドサーチ"
      ]
    },
    {
      "cell_type": "markdown",
      "metadata": {
        "id": "aadGIm3N7nVv"
      },
      "source": [
        ""
      ]
    },
    {
      "cell_type": "code",
      "metadata": {
        "id": "YEZHVLM1sWv2"
      },
      "source": [
        "from sklearn.model_selection import GridSearchCV\n",
        "# SVCアルゴリズムの学習モデルをimport\n",
        "from sklearn.svm import SVC"
      ],
      "execution_count": 12,
      "outputs": []
    },
    {
      "cell_type": "code",
      "metadata": {
        "id": "8WmTic_38zx1",
        "outputId": "8bf6ceb1-4d97-4378-cd58-1fc0e4447552",
        "colab": {
          "base_uri": "https://localhost:8080/"
        }
      },
      "source": [
        "parameters = [\n",
        "              # 3つのパラメータ、３パターン\n",
        "              {\"C\":[1,10,100,1000],\"kernel\":[\"linear\"]}, \n",
        "              {\"C\":[1,10,100,1000],\"kernel\":[\"rbf\"], \"gamma\":[0.001,0.0001]}, \n",
        "              {\"C\":[1,10,100,1000],\"kernel\":[\"sigmoid\"], \"gamma\":[0.001,0.0001]},\n",
        "]\n",
        "\n",
        "# 普通の学習\n",
        "clf = SVC()\n",
        "clf.fit(x_train, y_train)\n",
        "y_pred = clf.predict(x_test)\n",
        "print(\"普通の学習の正解率 = \", accuracy_score(y_test, y_pred))\n",
        "\n",
        "# グリッドサーチを行う\n",
        "# K分割考査検証用のインスタンスを生成する\n",
        "kfold_cv = KFold( n_splits=5, shuffle=True )\n",
        "#　グリッドサーチのなかでK分割考査検証も行われる\n",
        "clf_gird = GridSearchCV( SVC(), parameters, cv=kfold_cv )\n",
        "clf_gird.fit(x_train, y_train)# 学習\n",
        "# 学習ズミのモデルに最終的に設定されたパラメータを表示\n",
        "print(\"最適なパラメーター　= \", clf_gird.best_estimator_)\n",
        "\n",
        "# 最適なパラメーター設定ズミの学習モデルで評価\n",
        "y_pred = clf_gird.predict(x_test)\n",
        "print(\"グリッドサーチの正解率 = \" , accuracy_score(y_test, y_pred))\n"
      ],
      "execution_count": 13,
      "outputs": [
        {
          "output_type": "stream",
          "text": [
            "普通の学習の正解率 =  0.9666666666666667\n",
            "最適なパラメーター　=  SVC(C=1, cache_size=200, class_weight=None, coef0=0.0,\n",
            "  decision_function_shape='ovr', degree=3, gamma='auto_deprecated',\n",
            "  kernel='linear', max_iter=-1, probability=False, random_state=None,\n",
            "  shrinking=True, tol=0.001, verbose=False)\n",
            "グリッドサーチの正解率 =  1.0\n"
          ],
          "name": "stdout"
        }
      ]
    },
    {
      "cell_type": "markdown",
      "metadata": {
        "id": "xmUwWIe5FGBX"
      },
      "source": [
        "### Numpyの動作確認"
      ]
    },
    {
      "cell_type": "code",
      "metadata": {
        "id": "mM8OePg4-PaC"
      },
      "source": [
        "# import\n",
        "import numpy as np"
      ],
      "execution_count": 14,
      "outputs": []
    },
    {
      "cell_type": "code",
      "metadata": {
        "id": "NWnopDznFMs1",
        "outputId": "2e245a95-5367-43ad-ed60-bd2c2bf7c230",
        "colab": {
          "base_uri": "https://localhost:8080/"
        }
      },
      "source": [
        "# numpy配列の初期化\n",
        "a = np.array([1,2,3,4,5]) # numpy配列オブジェクトを生成\n",
        "print(a)\n",
        "# 型を表示\n",
        "print(type(a))"
      ],
      "execution_count": 15,
      "outputs": [
        {
          "output_type": "stream",
          "text": [
            "[1 2 3 4 5]\n",
            "<class 'numpy.ndarray'>\n"
          ],
          "name": "stdout"
        }
      ]
    },
    {
      "cell_type": "code",
      "metadata": {
        "id": "HyWEECDSFccy",
        "outputId": "bdb40fa2-1e4b-45b5-d759-48193e86833f",
        "colab": {
          "base_uri": "https://localhost:8080/"
        }
      },
      "source": [
        "# 二次元のndarrayを定義\n",
        "b = np.array([[1,2,3],[4,5,6]])\n",
        "print(b)"
      ],
      "execution_count": 16,
      "outputs": [
        {
          "output_type": "stream",
          "text": [
            "[[1 2 3]\n",
            " [4 5 6]]\n"
          ],
          "name": "stdout"
        }
      ]
    },
    {
      "cell_type": "code",
      "metadata": {
        "id": "uTBwTwgNF91j",
        "outputId": "2a60fc01-9a2d-447d-8f52-a84911bcdfb5",
        "colab": {
          "base_uri": "https://localhost:8080/"
        }
      },
      "source": [
        "# 配列の要素数を指定して０うめで初期化\n",
        "print(np.zeros(10))\n",
        "print(np.zeros((3,2)))\n",
        "print(np.ones(2))"
      ],
      "execution_count": 17,
      "outputs": [
        {
          "output_type": "stream",
          "text": [
            "[0. 0. 0. 0. 0. 0. 0. 0. 0. 0.]\n",
            "[[0. 0.]\n",
            " [0. 0.]\n",
            " [0. 0.]]\n",
            "[1. 1.]\n"
          ],
          "name": "stdout"
        }
      ]
    },
    {
      "cell_type": "code",
      "metadata": {
        "id": "4i4myhiXGLpQ",
        "outputId": "b6c7f483-1e9a-4f39-fd6b-aa34edfb4e91",
        "colab": {
          "base_uri": "https://localhost:8080/"
        }
      },
      "source": [
        "# 配連番の配列を要素数を指定して初期化\n",
        "print(np.arange(5))\n",
        "print(np.arange(2,9))\n",
        "print(np.arange(5,8,0.5))"
      ],
      "execution_count": 18,
      "outputs": [
        {
          "output_type": "stream",
          "text": [
            "[0 1 2 3 4]\n",
            "[2 3 4 5 6 7 8]\n",
            "[5.  5.5 6.  6.5 7.  7.5]\n"
          ],
          "name": "stdout"
        }
      ]
    },
    {
      "cell_type": "code",
      "metadata": {
        "id": "jVIzg-oiHPkW",
        "outputId": "c2166979-a7e2-467a-e765-9666a1bd6263",
        "colab": {
          "base_uri": "https://localhost:8080/"
        }
      },
      "source": [
        "# numpyで行列計算\n",
        "a = np.array([1,2,3,4,5])\n",
        "b = a*2\n",
        "print(b)\n",
        "x = np.arange(10)\n",
        "print(x)\n",
        "y = 3*x + 5\n",
        "print(y)"
      ],
      "execution_count": 19,
      "outputs": [
        {
          "output_type": "stream",
          "text": [
            "[ 2  4  6  8 10]\n",
            "[0 1 2 3 4 5 6 7 8 9]\n",
            "[ 5  8 11 14 17 20 23 26 29 32]\n"
          ],
          "name": "stdout"
        }
      ]
    },
    {
      "cell_type": "code",
      "metadata": {
        "id": "_-PEXLHKH7S0",
        "outputId": "dfb8a0ab-fd7a-4f1e-b464-64130929ee3f",
        "colab": {
          "base_uri": "https://localhost:8080/"
        }
      },
      "source": [
        " a = np.array([[1,2,3],[4,5,6]])\n",
        " print(a)\n",
        " print(a.shape)\n",
        "\n",
        " b = np.array([[1,2,3],[4,5,6],[7,8,9]])\n",
        " print(b)\n",
        " print(b.shape)"
      ],
      "execution_count": 20,
      "outputs": [
        {
          "output_type": "stream",
          "text": [
            "[[1 2 3]\n",
            " [4 5 6]]\n",
            "(2, 3)\n",
            "[[1 2 3]\n",
            " [4 5 6]\n",
            " [7 8 9]]\n",
            "(3, 3)\n"
          ],
          "name": "stdout"
        }
      ]
    },
    {
      "cell_type": "code",
      "metadata": {
        "id": "cWaSvqN4HjJ_",
        "outputId": "26aa08c4-836e-4d4f-8067-32db83618100",
        "colab": {
          "base_uri": "https://localhost:8080/"
        }
      },
      "source": [
        "# Numpy配列で次元数を変換する\n",
        "a = np.array([[1,2,3],[4,5,6]])\n",
        "print(\"a=\", a)\n",
        "b = a.flatten()\n",
        "print(\"b=\", b)\n",
        "\n",
        "a = np.array([[1,2,3],[4,5,6]])\n",
        "print(a)\n",
        "b = a.reshape(3,2)\n",
        "print(b)"
      ],
      "execution_count": 21,
      "outputs": [
        {
          "output_type": "stream",
          "text": [
            "a= [[1 2 3]\n",
            " [4 5 6]]\n",
            "b= [1 2 3 4 5 6]\n",
            "[[1 2 3]\n",
            " [4 5 6]]\n",
            "[[1 2]\n",
            " [3 4]\n",
            " [5 6]]\n"
          ],
          "name": "stdout"
        }
      ]
    },
    {
      "cell_type": "markdown",
      "metadata": {
        "id": "7gfm-Fcw3xgX"
      },
      "source": [
        "### numpyの配列にアクセスする方法"
      ]
    },
    {
      "cell_type": "code",
      "metadata": {
        "id": "bPHqT23eInc9",
        "outputId": "df84594d-bd9a-49a8-d037-bd336a6d9971",
        "colab": {
          "base_uri": "https://localhost:8080/"
        }
      },
      "source": [
        "v = np.array([[1,2,3],[4,5,6],[7,8,9]])\n",
        "a = v[0]\n",
        "print(a) # 二次元配列の０行目\n",
        "b = v[1:] #  一列目いこう\n",
        "print(b)\n",
        "c = v[:,0]\n",
        "print(c)\n"
      ],
      "execution_count": 22,
      "outputs": [
        {
          "output_type": "stream",
          "text": [
            "[1 2 3]\n",
            "[[4 5 6]\n",
            " [7 8 9]]\n",
            "[1 4 7]\n"
          ],
          "name": "stdout"
        }
      ]
    },
    {
      "cell_type": "code",
      "metadata": {
        "id": "Jh53rtTC3fsU"
      },
      "source": [
        ""
      ],
      "execution_count": 22,
      "outputs": []
    }
  ]
}